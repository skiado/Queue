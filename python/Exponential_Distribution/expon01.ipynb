{
 "cells": [
  {
   "cell_type": "code",
   "execution_count": 1,
   "metadata": {},
   "outputs": [],
   "source": [
    "import numpy as np\n",
    "import matplotlib.pyplot as plt\n",
    "import scipy as sp\n",
    "import math\n",
    "\n",
    "rng = np.random.default_rng()\n"
   ]
  },
  {
   "cell_type": "code",
   "execution_count": 2,
   "metadata": {},
   "outputs": [],
   "source": [
    "def exponential():\n",
    "    U = rng.random()\n",
    "    return -np.log(U)"
   ]
  },
  {
   "cell_type": "code",
   "execution_count": 3,
   "metadata": {},
   "outputs": [
    {
     "name": "stdout",
     "output_type": "stream",
     "text": [
      "λ = 0.8\n",
      "mean E[X] =  1.25 1.2472118870659707 1.2508173521439023\n"
     ]
    }
   ],
   "source": [
    "a = []\n",
    "max = 100000\n",
    "l = float(input('λ = '))\n",
    "for i in range(max):\n",
    "    a.append((1/l)*exponential())\n",
    "b = np.random.exponential((1/l),max)\n",
    "print('mean E[X] = ',1/l,np.mean(a),np.mean(b))"
   ]
  },
  {
   "cell_type": "code",
   "execution_count": 4,
   "metadata": {},
   "outputs": [],
   "source": [
    "y,x = np.histogram(a,bins=20)\n",
    "y = np.array(y)\n",
    "y = y / np.sum(y)\n",
    "y1,x1 = np.histogram(b,bins=20)\n",
    "y1 = np.array(y1)\n",
    "y1 = y1 / np.sum(y1)\n",
    "#print(x)\n",
    "#print(y)"
   ]
  },
  {
   "cell_type": "code",
   "execution_count": 5,
   "metadata": {},
   "outputs": [],
   "source": [
    "th_y = []\n",
    "for i in x[1:]:\n",
    "    th_y.append(l*(math.e**(-l*i)))\n",
    "#print(x[1:])\n",
    "#print(th_y)"
   ]
  },
  {
   "cell_type": "code",
   "execution_count": 6,
   "metadata": {},
   "outputs": [
    {
     "data": {
      "image/png": "[encoded data removed]",
      "text/plain": [
       "<Figure size 432x288 with 1 Axes>"
      ]
     },
     "metadata": {
      "needs_background": "light"
     },
     "output_type": "display_data"
    }
   ],
   "source": [
    "plt.plot(x[1:],y,label='my func')\n",
    "plt.plot(x[1:],th_y,label='Theory')\n",
    "plt.plot(x[1:],y1,label='Library')\n",
    "plt.legend()\n",
    "plt.show()"
   ]
  },
  {
   "cell_type": "code",
   "execution_count": null,
   "metadata": {},
   "outputs": [],
   "source": []
  }
 ],
 "metadata": {
  "kernelspec": {
   "display_name": "Python 3",
   "language": "python",
   "name": "python3"
  },
  "language_info": {
   "codemirror_mode": {
    "name": "ipython",
    "version": 3
   },
   "file_extension": ".py",
   "mimetype": "text/x-python",
   "name": "python",
   "nbconvert_exporter": "python",
   "pygments_lexer": "ipython3",
   "version": "3.7.4"
  }
 },
 "nbformat": 4,
 "nbformat_minor": 2
}
